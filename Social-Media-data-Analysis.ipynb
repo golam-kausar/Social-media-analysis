{
 "cells": [
  {
   "cell_type": "code",
   "execution_count": 1,
   "id": "56084b3d",
   "metadata": {},
   "outputs": [],
   "source": [
    "import pandas as pd\n",
    "import numpy as np\n",
    "import seaborn as sns\n",
    "import matplotlib.pyplot as plt\n",
    "%matplotlib inline"
   ]
  },
  {
   "cell_type": "code",
   "execution_count": 2,
   "id": "35ba7dc7",
   "metadata": {},
   "outputs": [],
   "source": [
    "Media =pd.read_csv('social_media_data.csv')"
   ]
  },
  {
   "cell_type": "code",
   "execution_count": 3,
   "id": "f99797a5",
   "metadata": {},
   "outputs": [
    {
     "data": {
      "text/html": [
       "<div>\n",
       "<style scoped>\n",
       "    .dataframe tbody tr th:only-of-type {\n",
       "        vertical-align: middle;\n",
       "    }\n",
       "\n",
       "    .dataframe tbody tr th {\n",
       "        vertical-align: top;\n",
       "    }\n",
       "\n",
       "    .dataframe thead th {\n",
       "        text-align: right;\n",
       "    }\n",
       "</style>\n",
       "<table border=\"1\" class=\"dataframe\">\n",
       "  <thead>\n",
       "    <tr style=\"text-align: right;\">\n",
       "      <th></th>\n",
       "      <th>date</th>\n",
       "      <th>platform</th>\n",
       "      <th>post_type</th>\n",
       "      <th>likes</th>\n",
       "      <th>shares</th>\n",
       "      <th>comments</th>\n",
       "      <th>views</th>\n",
       "    </tr>\n",
       "  </thead>\n",
       "  <tbody>\n",
       "    <tr>\n",
       "      <th>0</th>\n",
       "      <td>2023-05-24</td>\n",
       "      <td>Twitter</td>\n",
       "      <td>image</td>\n",
       "      <td>868.0</td>\n",
       "      <td>238.0</td>\n",
       "      <td>352.0</td>\n",
       "      <td>8836.0</td>\n",
       "    </tr>\n",
       "    <tr>\n",
       "      <th>1</th>\n",
       "      <td>2023-02-23</td>\n",
       "      <td>Twitter</td>\n",
       "      <td>image</td>\n",
       "      <td>944.0</td>\n",
       "      <td>610.0</td>\n",
       "      <td>146.0</td>\n",
       "      <td>5554.0</td>\n",
       "    </tr>\n",
       "    <tr>\n",
       "      <th>2</th>\n",
       "      <td>2023-03-18</td>\n",
       "      <td>Instagram</td>\n",
       "      <td>image</td>\n",
       "      <td>1067.0</td>\n",
       "      <td>858.0</td>\n",
       "      <td>365.0</td>\n",
       "      <td>4018.0</td>\n",
       "    </tr>\n",
       "    <tr>\n",
       "      <th>3</th>\n",
       "      <td>2023-06-12</td>\n",
       "      <td>Twitter</td>\n",
       "      <td>text</td>\n",
       "      <td>780.0</td>\n",
       "      <td>427.0</td>\n",
       "      <td>100.0</td>\n",
       "      <td>6999.0</td>\n",
       "    </tr>\n",
       "    <tr>\n",
       "      <th>4</th>\n",
       "      <td>2023-02-03</td>\n",
       "      <td>Instagram</td>\n",
       "      <td>text</td>\n",
       "      <td>836.0</td>\n",
       "      <td>893.0</td>\n",
       "      <td>443.0</td>\n",
       "      <td>5802.0</td>\n",
       "    </tr>\n",
       "  </tbody>\n",
       "</table>\n",
       "</div>"
      ],
      "text/plain": [
       "         date   platform post_type   likes  shares  comments   views\n",
       "0  2023-05-24    Twitter     image   868.0   238.0     352.0  8836.0\n",
       "1  2023-02-23    Twitter     image   944.0   610.0     146.0  5554.0\n",
       "2  2023-03-18  Instagram     image  1067.0   858.0     365.0  4018.0\n",
       "3  2023-06-12    Twitter      text   780.0   427.0     100.0  6999.0\n",
       "4  2023-02-03  Instagram      text   836.0   893.0     443.0  5802.0"
      ]
     },
     "execution_count": 3,
     "metadata": {},
     "output_type": "execute_result"
    }
   ],
   "source": [
    "Media.head()"
   ]
  },
  {
   "cell_type": "code",
   "execution_count": 4,
   "id": "fbdebcfd",
   "metadata": {},
   "outputs": [
    {
     "data": {
      "text/plain": [
       "date          0\n",
       "platform      0\n",
       "post_type     0\n",
       "likes         8\n",
       "shares        8\n",
       "comments      8\n",
       "views        10\n",
       "dtype: int64"
      ]
     },
     "execution_count": 4,
     "metadata": {},
     "output_type": "execute_result"
    }
   ],
   "source": [
    "Media.isnull().sum()"
   ]
  },
  {
   "cell_type": "code",
   "execution_count": 5,
   "id": "129c2413",
   "metadata": {},
   "outputs": [],
   "source": [
    "SM = Media.dropna()"
   ]
  },
  {
   "cell_type": "code",
   "execution_count": 6,
   "id": "416c2864",
   "metadata": {},
   "outputs": [
    {
     "data": {
      "text/html": [
       "<div>\n",
       "<style scoped>\n",
       "    .dataframe tbody tr th:only-of-type {\n",
       "        vertical-align: middle;\n",
       "    }\n",
       "\n",
       "    .dataframe tbody tr th {\n",
       "        vertical-align: top;\n",
       "    }\n",
       "\n",
       "    .dataframe thead th {\n",
       "        text-align: right;\n",
       "    }\n",
       "</style>\n",
       "<table border=\"1\" class=\"dataframe\">\n",
       "  <thead>\n",
       "    <tr style=\"text-align: right;\">\n",
       "      <th></th>\n",
       "      <th>date</th>\n",
       "      <th>platform</th>\n",
       "      <th>post_type</th>\n",
       "      <th>likes</th>\n",
       "      <th>shares</th>\n",
       "      <th>comments</th>\n",
       "      <th>views</th>\n",
       "    </tr>\n",
       "  </thead>\n",
       "  <tbody>\n",
       "    <tr>\n",
       "      <th>0</th>\n",
       "      <td>2023-05-24</td>\n",
       "      <td>Twitter</td>\n",
       "      <td>image</td>\n",
       "      <td>868.0</td>\n",
       "      <td>238.0</td>\n",
       "      <td>352.0</td>\n",
       "      <td>8836.0</td>\n",
       "    </tr>\n",
       "    <tr>\n",
       "      <th>1</th>\n",
       "      <td>2023-02-23</td>\n",
       "      <td>Twitter</td>\n",
       "      <td>image</td>\n",
       "      <td>944.0</td>\n",
       "      <td>610.0</td>\n",
       "      <td>146.0</td>\n",
       "      <td>5554.0</td>\n",
       "    </tr>\n",
       "    <tr>\n",
       "      <th>2</th>\n",
       "      <td>2023-03-18</td>\n",
       "      <td>Instagram</td>\n",
       "      <td>image</td>\n",
       "      <td>1067.0</td>\n",
       "      <td>858.0</td>\n",
       "      <td>365.0</td>\n",
       "      <td>4018.0</td>\n",
       "    </tr>\n",
       "    <tr>\n",
       "      <th>3</th>\n",
       "      <td>2023-06-12</td>\n",
       "      <td>Twitter</td>\n",
       "      <td>text</td>\n",
       "      <td>780.0</td>\n",
       "      <td>427.0</td>\n",
       "      <td>100.0</td>\n",
       "      <td>6999.0</td>\n",
       "    </tr>\n",
       "    <tr>\n",
       "      <th>4</th>\n",
       "      <td>2023-02-03</td>\n",
       "      <td>Instagram</td>\n",
       "      <td>text</td>\n",
       "      <td>836.0</td>\n",
       "      <td>893.0</td>\n",
       "      <td>443.0</td>\n",
       "      <td>5802.0</td>\n",
       "    </tr>\n",
       "  </tbody>\n",
       "</table>\n",
       "</div>"
      ],
      "text/plain": [
       "         date   platform post_type   likes  shares  comments   views\n",
       "0  2023-05-24    Twitter     image   868.0   238.0     352.0  8836.0\n",
       "1  2023-02-23    Twitter     image   944.0   610.0     146.0  5554.0\n",
       "2  2023-03-18  Instagram     image  1067.0   858.0     365.0  4018.0\n",
       "3  2023-06-12    Twitter      text   780.0   427.0     100.0  6999.0\n",
       "4  2023-02-03  Instagram      text   836.0   893.0     443.0  5802.0"
      ]
     },
     "execution_count": 6,
     "metadata": {},
     "output_type": "execute_result"
    }
   ],
   "source": [
    "SM.head()"
   ]
  },
  {
   "cell_type": "code",
   "execution_count": 28,
   "id": "d748b3a5",
   "metadata": {},
   "outputs": [
    {
     "data": {
      "text/plain": [
       "array(['2023-05-24T00:00:00.000000000', '2023-02-23T00:00:00.000000000',\n",
       "       '2023-03-18T00:00:00.000000000', '2023-06-12T00:00:00.000000000',\n",
       "       '2023-02-03T00:00:00.000000000', '2022-12-28T00:00:00.000000000',\n",
       "       '2022-12-22T00:00:00.000000000', '2022-11-18T00:00:00.000000000',\n",
       "       '2023-03-26T00:00:00.000000000', '2023-09-17T00:00:00.000000000',\n",
       "       '2023-10-04T00:00:00.000000000', '2023-02-07T00:00:00.000000000',\n",
       "       '2023-04-09T00:00:00.000000000', '2023-03-13T00:00:00.000000000',\n",
       "       '2023-05-26T00:00:00.000000000', '2023-06-11T00:00:00.000000000',\n",
       "       '2023-08-30T00:00:00.000000000', '2023-02-14T00:00:00.000000000',\n",
       "       '2023-01-18T00:00:00.000000000', '2022-11-12T00:00:00.000000000',\n",
       "       '2022-10-28T00:00:00.000000000', '2023-08-17T00:00:00.000000000',\n",
       "       '2023-06-02T00:00:00.000000000', '2023-01-11T00:00:00.000000000',\n",
       "       '2023-08-15T00:00:00.000000000', '2023-09-29T00:00:00.000000000',\n",
       "       '2023-01-13T00:00:00.000000000', '2023-03-31T00:00:00.000000000',\n",
       "       '2023-03-30T00:00:00.000000000', '2023-03-12T00:00:00.000000000',\n",
       "       '2023-04-08T00:00:00.000000000', '2023-10-03T00:00:00.000000000',\n",
       "       '2022-12-02T00:00:00.000000000', '2023-05-01T00:00:00.000000000',\n",
       "       '2023-08-21T00:00:00.000000000', '2023-04-10T00:00:00.000000000',\n",
       "       '2023-02-18T00:00:00.000000000', '2023-08-29T00:00:00.000000000',\n",
       "       '2022-12-18T00:00:00.000000000', '2022-12-07T00:00:00.000000000',\n",
       "       '2023-05-16T00:00:00.000000000', '2023-06-17T00:00:00.000000000',\n",
       "       '2022-10-31T00:00:00.000000000', '2023-07-21T00:00:00.000000000',\n",
       "       '2022-11-05T00:00:00.000000000', '2023-03-04T00:00:00.000000000',\n",
       "       '2023-01-08T00:00:00.000000000', '2022-12-05T00:00:00.000000000',\n",
       "       '2023-09-06T00:00:00.000000000', '2023-02-13T00:00:00.000000000',\n",
       "       '2023-07-22T00:00:00.000000000', '2023-08-31T00:00:00.000000000',\n",
       "       '2023-01-02T00:00:00.000000000', '2023-07-24T00:00:00.000000000',\n",
       "       '2023-01-12T00:00:00.000000000', '2023-02-27T00:00:00.000000000',\n",
       "       '2023-03-28T00:00:00.000000000', '2023-04-14T00:00:00.000000000',\n",
       "       '2023-06-08T00:00:00.000000000', '2022-11-28T00:00:00.000000000',\n",
       "       '2022-10-23T00:00:00.000000000', '2023-07-20T00:00:00.000000000',\n",
       "       '2023-10-02T00:00:00.000000000', '2023-01-01T00:00:00.000000000',\n",
       "       '2022-10-17T00:00:00.000000000', '2023-01-09T00:00:00.000000000',\n",
       "       '2022-11-22T00:00:00.000000000', '2023-09-11T00:00:00.000000000',\n",
       "       '2023-07-27T00:00:00.000000000', '2022-11-24T00:00:00.000000000',\n",
       "       '2022-10-20T00:00:00.000000000', '2023-10-05T00:00:00.000000000',\n",
       "       '2022-11-03T00:00:00.000000000', '2022-12-16T00:00:00.000000000',\n",
       "       '2022-11-09T00:00:00.000000000', '2022-12-08T00:00:00.000000000',\n",
       "       '2023-04-26T00:00:00.000000000', '2023-05-12T00:00:00.000000000',\n",
       "       '2023-02-15T00:00:00.000000000', '2023-05-28T00:00:00.000000000',\n",
       "       '2023-01-28T00:00:00.000000000', '2022-10-30T00:00:00.000000000',\n",
       "       '2023-01-22T00:00:00.000000000', '2023-08-16T00:00:00.000000000',\n",
       "       '2023-09-03T00:00:00.000000000', '2023-02-17T00:00:00.000000000',\n",
       "       '2022-11-26T00:00:00.000000000', '2023-05-21T00:00:00.000000000',\n",
       "       '2023-04-15T00:00:00.000000000', '2023-04-13T00:00:00.000000000',\n",
       "       '2023-02-09T00:00:00.000000000', '2022-12-13T00:00:00.000000000',\n",
       "       '2023-09-08T00:00:00.000000000', '2023-06-22T00:00:00.000000000',\n",
       "       '2023-06-23T00:00:00.000000000', '2023-06-05T00:00:00.000000000',\n",
       "       '2023-09-07T00:00:00.000000000', '2022-10-27T00:00:00.000000000',\n",
       "       '2023-02-16T00:00:00.000000000', '2023-09-24T00:00:00.000000000',\n",
       "       '2022-12-06T00:00:00.000000000', '2023-02-22T00:00:00.000000000',\n",
       "       '2023-04-06T00:00:00.000000000', '2023-08-08T00:00:00.000000000',\n",
       "       '2023-08-11T00:00:00.000000000', '2022-11-11T00:00:00.000000000',\n",
       "       '2023-09-16T00:00:00.000000000', '2023-05-11T00:00:00.000000000',\n",
       "       '2023-09-23T00:00:00.000000000', '2023-02-19T00:00:00.000000000',\n",
       "       '2022-11-02T00:00:00.000000000', '2022-10-16T00:00:00.000000000',\n",
       "       '2023-08-04T00:00:00.000000000', '2023-08-23T00:00:00.000000000',\n",
       "       '2023-10-12T00:00:00.000000000', '2023-07-25T00:00:00.000000000',\n",
       "       '2023-03-27T00:00:00.000000000', '2023-03-09T00:00:00.000000000',\n",
       "       '2023-02-24T00:00:00.000000000', '2023-09-09T00:00:00.000000000',\n",
       "       '2023-03-21T00:00:00.000000000', '2023-05-22T00:00:00.000000000',\n",
       "       '2023-07-11T00:00:00.000000000', '2023-01-06T00:00:00.000000000',\n",
       "       '2023-05-07T00:00:00.000000000', '2023-09-22T00:00:00.000000000',\n",
       "       '2022-12-23T00:00:00.000000000', '2023-09-15T00:00:00.000000000',\n",
       "       '2023-06-25T00:00:00.000000000', '2023-06-06T00:00:00.000000000',\n",
       "       '2023-06-19T00:00:00.000000000', '2023-07-04T00:00:00.000000000',\n",
       "       '2023-09-13T00:00:00.000000000', '2023-09-12T00:00:00.000000000',\n",
       "       '2023-06-16T00:00:00.000000000', '2023-01-16T00:00:00.000000000',\n",
       "       '2023-02-05T00:00:00.000000000', '2023-07-12T00:00:00.000000000',\n",
       "       '2023-09-25T00:00:00.000000000', '2023-05-02T00:00:00.000000000',\n",
       "       '2023-08-06T00:00:00.000000000', '2023-06-26T00:00:00.000000000',\n",
       "       '2023-04-02T00:00:00.000000000', '2022-11-15T00:00:00.000000000',\n",
       "       '2022-11-14T00:00:00.000000000', '2023-08-09T00:00:00.000000000',\n",
       "       '2023-03-01T00:00:00.000000000', '2023-06-15T00:00:00.000000000',\n",
       "       '2023-05-10T00:00:00.000000000', '2022-12-21T00:00:00.000000000',\n",
       "       '2022-12-26T00:00:00.000000000', '2023-02-25T00:00:00.000000000',\n",
       "       '2023-03-15T00:00:00.000000000', '2023-04-16T00:00:00.000000000',\n",
       "       '2023-01-29T00:00:00.000000000', '2023-03-17T00:00:00.000000000',\n",
       "       '2023-07-31T00:00:00.000000000', '2023-07-08T00:00:00.000000000',\n",
       "       '2023-06-01T00:00:00.000000000', '2023-04-30T00:00:00.000000000',\n",
       "       '2023-06-24T00:00:00.000000000', '2023-10-09T00:00:00.000000000',\n",
       "       '2023-01-30T00:00:00.000000000', '2023-03-02T00:00:00.000000000',\n",
       "       '2023-02-28T00:00:00.000000000', '2023-09-02T00:00:00.000000000',\n",
       "       '2023-09-28T00:00:00.000000000', '2023-09-21T00:00:00.000000000',\n",
       "       '2022-11-07T00:00:00.000000000', '2022-11-10T00:00:00.000000000',\n",
       "       '2023-07-10T00:00:00.000000000', '2023-01-07T00:00:00.000000000',\n",
       "       '2023-01-27T00:00:00.000000000', '2023-02-06T00:00:00.000000000',\n",
       "       '2023-01-05T00:00:00.000000000', '2023-06-21T00:00:00.000000000',\n",
       "       '2023-04-20T00:00:00.000000000', '2023-03-22T00:00:00.000000000',\n",
       "       '2023-08-19T00:00:00.000000000', '2023-04-29T00:00:00.000000000',\n",
       "       '2023-04-03T00:00:00.000000000', '2023-08-10T00:00:00.000000000',\n",
       "       '2022-12-03T00:00:00.000000000', '2023-03-14T00:00:00.000000000',\n",
       "       '2023-06-07T00:00:00.000000000', '2022-12-19T00:00:00.000000000',\n",
       "       '2023-07-06T00:00:00.000000000', '2023-08-03T00:00:00.000000000',\n",
       "       '2023-08-24T00:00:00.000000000', '2023-01-24T00:00:00.000000000',\n",
       "       '2022-12-17T00:00:00.000000000', '2022-10-26T00:00:00.000000000',\n",
       "       '2022-12-09T00:00:00.000000000', '2023-08-22T00:00:00.000000000',\n",
       "       '2023-06-13T00:00:00.000000000', '2023-09-18T00:00:00.000000000',\n",
       "       '2023-04-24T00:00:00.000000000', '2023-04-01T00:00:00.000000000',\n",
       "       '2023-07-16T00:00:00.000000000', '2023-09-04T00:00:00.000000000',\n",
       "       '2023-08-14T00:00:00.000000000', '2023-02-26T00:00:00.000000000',\n",
       "       '2023-06-09T00:00:00.000000000', '2023-07-07T00:00:00.000000000',\n",
       "       '2023-03-03T00:00:00.000000000', '2023-07-14T00:00:00.000000000',\n",
       "       '2023-04-28T00:00:00.000000000', '2023-08-07T00:00:00.000000000',\n",
       "       '2023-09-19T00:00:00.000000000', '2023-02-08T00:00:00.000000000',\n",
       "       '2022-10-15T00:00:00.000000000', '2022-12-15T00:00:00.000000000',\n",
       "       '2023-01-10T00:00:00.000000000', '2023-01-04T00:00:00.000000000',\n",
       "       '2023-09-05T00:00:00.000000000', '2023-06-28T00:00:00.000000000',\n",
       "       '2023-09-26T00:00:00.000000000', '2023-08-26T00:00:00.000000000',\n",
       "       '2023-03-10T00:00:00.000000000', '2022-11-29T00:00:00.000000000',\n",
       "       '2022-12-27T00:00:00.000000000', '2022-12-12T00:00:00.000000000',\n",
       "       '2022-11-13T00:00:00.000000000', '2023-07-29T00:00:00.000000000',\n",
       "       '2023-02-10T00:00:00.000000000', '2023-04-17T00:00:00.000000000',\n",
       "       '2023-07-09T00:00:00.000000000', '2023-03-05T00:00:00.000000000',\n",
       "       '2023-08-01T00:00:00.000000000', '2022-11-19T00:00:00.000000000',\n",
       "       '2023-05-18T00:00:00.000000000', '2023-01-20T00:00:00.000000000',\n",
       "       '2023-08-18T00:00:00.000000000', '2023-03-06T00:00:00.000000000',\n",
       "       '2023-06-20T00:00:00.000000000', '2023-04-05T00:00:00.000000000',\n",
       "       '2023-06-18T00:00:00.000000000', '2023-07-05T00:00:00.000000000',\n",
       "       '2023-10-11T00:00:00.000000000', '2023-02-01T00:00:00.000000000',\n",
       "       '2023-10-01T00:00:00.000000000', '2022-11-01T00:00:00.000000000',\n",
       "       '2023-04-07T00:00:00.000000000', '2023-09-10T00:00:00.000000000',\n",
       "       '2023-05-19T00:00:00.000000000', '2023-01-21T00:00:00.000000000',\n",
       "       '2022-12-31T00:00:00.000000000', '2022-12-01T00:00:00.000000000',\n",
       "       '2022-10-24T00:00:00.000000000', '2023-01-23T00:00:00.000000000',\n",
       "       '2023-03-11T00:00:00.000000000', '2023-02-04T00:00:00.000000000',\n",
       "       '2023-04-25T00:00:00.000000000', '2022-10-13T00:00:00.000000000',\n",
       "       '2022-11-04T00:00:00.000000000', '2022-12-25T00:00:00.000000000',\n",
       "       '2022-12-11T00:00:00.000000000', '2023-06-14T00:00:00.000000000',\n",
       "       '2023-08-05T00:00:00.000000000', '2023-03-07T00:00:00.000000000',\n",
       "       '2023-01-15T00:00:00.000000000', '2023-07-18T00:00:00.000000000',\n",
       "       '2023-08-28T00:00:00.000000000', '2023-09-20T00:00:00.000000000',\n",
       "       '2023-07-15T00:00:00.000000000', '2023-08-25T00:00:00.000000000',\n",
       "       '2023-08-13T00:00:00.000000000', '2023-02-02T00:00:00.000000000',\n",
       "       '2023-05-13T00:00:00.000000000', '2023-05-27T00:00:00.000000000',\n",
       "       '2022-11-06T00:00:00.000000000', '2022-10-14T00:00:00.000000000',\n",
       "       '2023-05-29T00:00:00.000000000', '2023-08-20T00:00:00.000000000',\n",
       "       '2023-05-14T00:00:00.000000000', '2023-07-30T00:00:00.000000000',\n",
       "       '2023-04-04T00:00:00.000000000', '2023-03-08T00:00:00.000000000',\n",
       "       '2022-11-23T00:00:00.000000000', '2023-10-13T00:00:00.000000000',\n",
       "       '2023-07-02T00:00:00.000000000', '2022-12-10T00:00:00.000000000',\n",
       "       '2022-12-24T00:00:00.000000000', '2022-12-04T00:00:00.000000000',\n",
       "       '2023-03-24T00:00:00.000000000', '2022-12-30T00:00:00.000000000',\n",
       "       '2023-04-21T00:00:00.000000000', '2022-12-20T00:00:00.000000000',\n",
       "       '2023-05-08T00:00:00.000000000', '2023-01-03T00:00:00.000000000',\n",
       "       '2023-05-03T00:00:00.000000000', '2022-11-27T00:00:00.000000000',\n",
       "       '2023-06-29T00:00:00.000000000', '2023-07-19T00:00:00.000000000',\n",
       "       '2023-07-17T00:00:00.000000000', '2023-05-23T00:00:00.000000000',\n",
       "       '2023-07-23T00:00:00.000000000', '2023-09-01T00:00:00.000000000',\n",
       "       '2023-10-06T00:00:00.000000000', '2022-11-17T00:00:00.000000000',\n",
       "       '2023-08-12T00:00:00.000000000', '2023-08-27T00:00:00.000000000',\n",
       "       '2023-05-15T00:00:00.000000000', '2023-05-04T00:00:00.000000000',\n",
       "       '2023-02-20T00:00:00.000000000', '2023-01-17T00:00:00.000000000',\n",
       "       '2022-11-08T00:00:00.000000000', '2022-10-22T00:00:00.000000000',\n",
       "       '2023-05-30T00:00:00.000000000', '2023-08-02T00:00:00.000000000',\n",
       "       '2023-01-25T00:00:00.000000000', '2023-09-30T00:00:00.000000000',\n",
       "       '2023-05-25T00:00:00.000000000', '2022-11-16T00:00:00.000000000',\n",
       "       '2022-10-25T00:00:00.000000000', '2023-01-19T00:00:00.000000000',\n",
       "       '2023-10-07T00:00:00.000000000', '2022-12-14T00:00:00.000000000',\n",
       "       '2023-07-28T00:00:00.000000000', '2023-04-22T00:00:00.000000000',\n",
       "       '2023-06-27T00:00:00.000000000', '2023-01-26T00:00:00.000000000',\n",
       "       '2023-10-10T00:00:00.000000000', '2023-09-14T00:00:00.000000000',\n",
       "       '2023-03-20T00:00:00.000000000', '2023-06-10T00:00:00.000000000',\n",
       "       '2023-05-06T00:00:00.000000000', '2023-03-29T00:00:00.000000000',\n",
       "       '2023-07-01T00:00:00.000000000', '2023-10-08T00:00:00.000000000',\n",
       "       '2023-05-31T00:00:00.000000000', '2023-02-11T00:00:00.000000000',\n",
       "       '2022-10-21T00:00:00.000000000', '2023-07-03T00:00:00.000000000',\n",
       "       '2023-02-12T00:00:00.000000000', '2023-05-09T00:00:00.000000000',\n",
       "       '2023-05-05T00:00:00.000000000', '2023-01-14T00:00:00.000000000',\n",
       "       '2023-06-03T00:00:00.000000000', '2022-11-20T00:00:00.000000000',\n",
       "       '2023-04-23T00:00:00.000000000', '2023-03-23T00:00:00.000000000',\n",
       "       '2022-10-19T00:00:00.000000000', '2023-03-19T00:00:00.000000000',\n",
       "       '2023-07-26T00:00:00.000000000', '2023-04-19T00:00:00.000000000',\n",
       "       '2023-01-31T00:00:00.000000000', '2023-04-27T00:00:00.000000000',\n",
       "       '2023-04-11T00:00:00.000000000', '2023-04-18T00:00:00.000000000',\n",
       "       '2023-03-25T00:00:00.000000000', '2023-05-20T00:00:00.000000000',\n",
       "       '2023-06-30T00:00:00.000000000', '2022-12-29T00:00:00.000000000',\n",
       "       '2023-04-12T00:00:00.000000000', '2023-02-21T00:00:00.000000000',\n",
       "       '2022-10-18T00:00:00.000000000', '2022-11-30T00:00:00.000000000',\n",
       "       '2022-11-25T00:00:00.000000000', '2023-03-16T00:00:00.000000000',\n",
       "       '2022-11-21T00:00:00.000000000', '2023-06-04T00:00:00.000000000',\n",
       "       '2022-10-29T00:00:00.000000000', '2023-09-27T00:00:00.000000000',\n",
       "       '2023-05-17T00:00:00.000000000'], dtype='datetime64[ns]')"
      ]
     },
     "execution_count": 28,
     "metadata": {},
     "output_type": "execute_result"
    }
   ],
   "source": [
    "SM.date.unique()"
   ]
  },
  {
   "cell_type": "code",
   "execution_count": 7,
   "id": "409eea07",
   "metadata": {},
   "outputs": [
    {
     "data": {
      "text/plain": [
       "date         0\n",
       "platform     0\n",
       "post_type    0\n",
       "likes        0\n",
       "shares       0\n",
       "comments     0\n",
       "views        0\n",
       "dtype: int64"
      ]
     },
     "execution_count": 7,
     "metadata": {},
     "output_type": "execute_result"
    }
   ],
   "source": [
    "SM.isnull().sum()"
   ]
  },
  {
   "cell_type": "code",
   "execution_count": 8,
   "id": "2dac109c",
   "metadata": {},
   "outputs": [
    {
     "data": {
      "text/plain": [
       "date          object\n",
       "platform      object\n",
       "post_type     object\n",
       "likes        float64\n",
       "shares       float64\n",
       "comments     float64\n",
       "views        float64\n",
       "dtype: object"
      ]
     },
     "execution_count": 8,
     "metadata": {},
     "output_type": "execute_result"
    }
   ],
   "source": [
    "SM.dtypes"
   ]
  },
  {
   "cell_type": "code",
   "execution_count": 9,
   "id": "c3611092",
   "metadata": {},
   "outputs": [
    {
     "name": "stderr",
     "output_type": "stream",
     "text": [
      "C:\\Users\\Golam Kausar\\AppData\\Local\\Temp\\ipykernel_1984\\1971106091.py:1: SettingWithCopyWarning: \n",
      "A value is trying to be set on a copy of a slice from a DataFrame.\n",
      "Try using .loc[row_indexer,col_indexer] = value instead\n",
      "\n",
      "See the caveats in the documentation: https://pandas.pydata.org/pandas-docs/stable/user_guide/indexing.html#returning-a-view-versus-a-copy\n",
      "  SM['date'] = pd.to_datetime(SM['date'])\n"
     ]
    }
   ],
   "source": [
    "SM['date'] = pd.to_datetime(SM['date'])"
   ]
  },
  {
   "cell_type": "code",
   "execution_count": 10,
   "id": "d5e438de",
   "metadata": {},
   "outputs": [
    {
     "data": {
      "text/plain": [
       "date         datetime64[ns]\n",
       "platform             object\n",
       "post_type            object\n",
       "likes               float64\n",
       "shares              float64\n",
       "comments            float64\n",
       "views               float64\n",
       "dtype: object"
      ]
     },
     "execution_count": 10,
     "metadata": {},
     "output_type": "execute_result"
    }
   ],
   "source": [
    "SM.dtypes"
   ]
  },
  {
   "cell_type": "code",
   "execution_count": 11,
   "id": "66ff7e6b",
   "metadata": {},
   "outputs": [
    {
     "data": {
      "text/plain": [
       "0"
      ]
     },
     "execution_count": 11,
     "metadata": {},
     "output_type": "execute_result"
    }
   ],
   "source": [
    "SM.duplicated().sum()"
   ]
  },
  {
   "cell_type": "code",
   "execution_count": 22,
   "id": "048937ae",
   "metadata": {},
   "outputs": [
    {
     "data": {
      "text/plain": [
       "2538158.0"
      ]
     },
     "execution_count": 22,
     "metadata": {},
     "output_type": "execute_result"
    }
   ],
   "source": [
    "total_likes = SM['likes'].sum()\n",
    "total_likes"
   ]
  },
  {
   "cell_type": "code",
   "execution_count": 23,
   "id": "8a9ccc22",
   "metadata": {},
   "outputs": [
    {
     "data": {
      "text/plain": [
       "979174.0"
      ]
     },
     "execution_count": 23,
     "metadata": {},
     "output_type": "execute_result"
    }
   ],
   "source": [
    "total_shares = SM['shares'].sum()\n",
    "total_shares"
   ]
  },
  {
   "cell_type": "code",
   "execution_count": 24,
   "id": "eca8bc79",
   "metadata": {},
   "outputs": [
    {
     "data": {
      "text/plain": [
       "600360.0"
      ]
     },
     "execution_count": 24,
     "metadata": {},
     "output_type": "execute_result"
    }
   ],
   "source": [
    "total_comments = SM['comments'].sum()\n",
    "total_comments"
   ]
  },
  {
   "cell_type": "code",
   "execution_count": 25,
   "id": "0aa6545b",
   "metadata": {},
   "outputs": [
    {
     "data": {
      "text/plain": [
       "13696703.0"
      ]
     },
     "execution_count": 25,
     "metadata": {},
     "output_type": "execute_result"
    }
   ],
   "source": [
    "total_views = SM['views'].sum()\n",
    "total_views"
   ]
  },
  {
   "cell_type": "markdown",
   "id": "38c0a915",
   "metadata": {},
   "source": [
    "#### Total number of likes = 2538158.0; \n",
    "#### Total number of shares = 979174.0; \n",
    "#### Total number of comments = 600360.0;\n",
    "#### Total number of views = 13696703.0"
   ]
  },
  {
   "cell_type": "code",
   "execution_count": 26,
   "id": "d7e181bf",
   "metadata": {},
   "outputs": [
    {
     "name": "stderr",
     "output_type": "stream",
     "text": [
      "C:\\Users\\Golam Kausar\\AppData\\Local\\Temp\\ipykernel_1984\\3918064144.py:1: SettingWithCopyWarning: \n",
      "A value is trying to be set on a copy of a slice from a DataFrame.\n",
      "Try using .loc[row_indexer,col_indexer] = value instead\n",
      "\n",
      "See the caveats in the documentation: https://pandas.pydata.org/pandas-docs/stable/user_guide/indexing.html#returning-a-view-versus-a-copy\n",
      "  SM['year'] = SM['date'].dt.year\n",
      "C:\\Users\\Golam Kausar\\AppData\\Local\\Temp\\ipykernel_1984\\3918064144.py:2: FutureWarning: The default value of numeric_only in DataFrameGroupBy.sum is deprecated. In a future version, numeric_only will default to False. Either specify numeric_only or select only columns which should be valid for the function.\n",
      "  yearly_totals = SM.groupby('year').sum()\n"
     ]
    }
   ],
   "source": [
    "SM['year'] = SM['date'].dt.year\n",
    "yearly_totals = SM.groupby('year').sum()"
   ]
  },
  {
   "cell_type": "code",
   "execution_count": 27,
   "id": "701e6b1e",
   "metadata": {},
   "outputs": [
    {
     "data": {
      "text/plain": [
       "<Figure size 1000x600 with 0 Axes>"
      ]
     },
     "metadata": {},
     "output_type": "display_data"
    },
    {
     "data": {
      "image/png": "[encoded data removed]",
      "text/plain": [
       "<Figure size 640x480 with 1 Axes>"
      ]
     },
     "metadata": {},
     "output_type": "display_data"
    }
   ],
   "source": [
    "# Plot the bar chart\n",
    "plt.figure(figsize=(10, 6))\n",
    "yearly_totals[['likes', 'shares', 'comments', 'views']].plot(kind='bar', stacked=True)\n",
    "plt.title('Total Likes, Shares, Comments, and Views Over the Year')\n",
    "plt.xlabel('Year')\n",
    "plt.ylabel('Total Count')\n",
    "plt.xticks(rotation=0)\n",
    "plt.legend(title='Metrics')\n",
    "plt.grid(axis='y')\n",
    "plt.tight_layout()\n",
    "plt.show()"
   ]
  },
  {
   "cell_type": "code",
   "execution_count": 31,
   "id": "f0490193",
   "metadata": {},
   "outputs": [
    {
     "name": "stderr",
     "output_type": "stream",
     "text": [
      "C:\\Users\\Golam Kausar\\AppData\\Local\\Temp\\ipykernel_1984\\1357958839.py:1: SettingWithCopyWarning: \n",
      "A value is trying to be set on a copy of a slice from a DataFrame.\n",
      "Try using .loc[row_indexer,col_indexer] = value instead\n",
      "\n",
      "See the caveats in the documentation: https://pandas.pydata.org/pandas-docs/stable/user_guide/indexing.html#returning-a-view-versus-a-copy\n",
      "  SM['engagement'] = SM['likes'] + SM['shares'] + SM['comments']\n"
     ]
    },
    {
     "data": {
      "text/plain": [
       "platform\n",
       "Facebook               1308096.0\n",
       "Instagram              1398932.0\n",
       "NonExistingPlatform      11709.0\n",
       "Twitter                1398955.0\n",
       "Name: engagement, dtype: float64"
      ]
     },
     "execution_count": 31,
     "metadata": {},
     "output_type": "execute_result"
    }
   ],
   "source": [
    "SM['engagement'] = SM['likes'] + SM['shares'] + SM['comments']\n",
    "platform_engagement = SM.groupby('platform')['engagement'].sum()\n",
    "platform_engagement "
   ]
  },
  {
   "cell_type": "code",
   "execution_count": 32,
   "id": "5b8009a8",
   "metadata": {},
   "outputs": [
    {
     "data": {
      "text/plain": [
       "1398955.0"
      ]
     },
     "execution_count": 32,
     "metadata": {},
     "output_type": "execute_result"
    }
   ],
   "source": [
    "# Find the platform with the highest engagement\n",
    "platform_highest_engagement = platform_engagement.idxmax()\n",
    "highest_engagement = platform_engagement.max()\n",
    "highest_engagement"
   ]
  },
  {
   "cell_type": "markdown",
   "id": "eed050d8",
   "metadata": {},
   "source": [
    "### Twitter has highest engagement of 1398955.0"
   ]
  },
  {
   "cell_type": "code",
   "execution_count": 34,
   "id": "d7d6798b",
   "metadata": {},
   "outputs": [
    {
     "data": {
      "image/png": "[encoded data removed]",
      "text/plain": [
       "<Figure size 800x600 with 1 Axes>"
      ]
     },
     "metadata": {},
     "output_type": "display_data"
    }
   ],
   "source": [
    "# Plot the bar chart\n",
    "plt.figure(figsize=(8, 6))\n",
    "platform_engagement.plot(kind='bar', color='blue')\n",
    "plt.title('Total Engagement by Platform')\n",
    "plt.xlabel('Platform')\n",
    "plt.ylabel('Total Engagement')\n",
    "plt.xticks(rotation=0)\n",
    "plt.grid(axis='y')\n",
    "plt.tight_layout()\n",
    "plt.show()"
   ]
  },
  {
   "cell_type": "code",
   "execution_count": 35,
   "id": "cb1c58d3",
   "metadata": {},
   "outputs": [
    {
     "name": "stderr",
     "output_type": "stream",
     "text": [
      "C:\\Users\\Golam Kausar\\AppData\\Local\\Temp\\ipykernel_1984\\3148329949.py:5: FutureWarning: The default value of numeric_only in DataFrameGroupBy.sum is deprecated. In a future version, numeric_only will default to False. Either specify numeric_only or select only columns which should be valid for the function.\n",
      "  platform_totals = SM.groupby('platform').sum()\n"
     ]
    }
   ],
   "source": [
    "# Calculate the total number of posts for each platform\n",
    "platform_post_counts = SM['platform'].value_counts()\n",
    "\n",
    "# Calculate the total number of likes, shares, comments, and views for each platform\n",
    "platform_totals = SM.groupby('platform').sum()\n",
    "\n",
    "# Calculate the average number of likes, shares, comments, and views per post on each platform\n",
    "average_likes_per_post = platform_totals['likes'] / platform_post_counts\n",
    "average_shares_per_post = platform_totals['shares'] / platform_post_counts\n",
    "average_comments_per_post = platform_totals['comments'] / platform_post_counts\n",
    "average_views_per_post = platform_totals['views'] / platform_post_counts"
   ]
  },
  {
   "cell_type": "code",
   "execution_count": 38,
   "id": "11d93479",
   "metadata": {},
   "outputs": [
    {
     "data": {
      "text/plain": [
       "Facebook               6974.108239\n",
       "Instagram              6905.180723\n",
       "NonExistingPlatform    6729.166667\n",
       "Twitter                7012.264012\n",
       "dtype: float64"
      ]
     },
     "execution_count": 38,
     "metadata": {},
     "output_type": "execute_result"
    }
   ],
   "source": [
    "average_likes_per_post\n",
    "average_shares_per_post\n",
    "average_comments_per_post\n",
    "average_views_per_post"
   ]
  },
  {
   "cell_type": "code",
   "execution_count": 36,
   "id": "84f54def",
   "metadata": {},
   "outputs": [],
   "source": [
    "# Combine the results into a DataFrame\n",
    "average_metrics_per_post = pd.DataFrame({\n",
    "    'Average Likes per Post': average_likes_per_post,\n",
    "    'Average Shares per Post': average_shares_per_post,\n",
    "    'Average Comments per Post': average_comments_per_post,\n",
    "    'Average Views per Post': average_views_per_post\n",
    "})"
   ]
  },
  {
   "cell_type": "code",
   "execution_count": 37,
   "id": "537f2524",
   "metadata": {},
   "outputs": [
    {
     "name": "stdout",
     "output_type": "stream",
     "text": [
      "                     Average Likes per Post  Average Shares per Post  \\\n",
      "Facebook                        1288.655897               513.915994   \n",
      "Instagram                       1309.932229               497.066265   \n",
      "NonExistingPlatform             1150.166667               515.833333   \n",
      "Twitter                         1274.017699               483.647493   \n",
      "\n",
      "                     Average Comments per Post  Average Views per Post  \n",
      "Facebook                            310.668821             6974.108239  \n",
      "Instagram                           299.826807             6905.180723  \n",
      "NonExistingPlatform                 285.500000             6729.166667  \n",
      "Twitter                             305.690265             7012.264012  \n"
     ]
    }
   ],
   "source": [
    "print(average_metrics_per_post)"
   ]
  },
  {
   "cell_type": "code",
   "execution_count": 39,
   "id": "058cd234",
   "metadata": {},
   "outputs": [
    {
     "data": {
      "image/png": "[encoded data removed]",
      "text/plain": [
       "<Figure size 1000x600 with 1 Axes>"
      ]
     },
     "metadata": {},
     "output_type": "display_data"
    }
   ],
   "source": [
    "# Plot the grouped bar chart\n",
    "average_metrics_per_post.plot(kind='bar', figsize=(10, 6))\n",
    "plt.title('Average Engagement per Post by Platform')\n",
    "plt.xlabel('Platform')\n",
    "plt.ylabel('Average Count')\n",
    "plt.xticks(rotation=0)\n",
    "plt.legend(title='Metrics')\n",
    "plt.grid(axis='y')\n",
    "plt.tight_layout()\n",
    "plt.show()"
   ]
  },
  {
   "cell_type": "code",
   "execution_count": 41,
   "id": "0da82954",
   "metadata": {},
   "outputs": [
    {
     "data": {
      "text/plain": [
       "platform             post_type\n",
       "Facebook             image        216\n",
       "                     text         201\n",
       "                     video        202\n",
       "Instagram            image        263\n",
       "                     text         198\n",
       "                     video        203\n",
       "NonExistingPlatform  image          1\n",
       "                     text           3\n",
       "                     video          2\n",
       "Twitter              image        248\n",
       "                     text         214\n",
       "                     video        216\n",
       "dtype: int64"
      ]
     },
     "execution_count": 41,
     "metadata": {},
     "output_type": "execute_result"
    }
   ],
   "source": [
    "post_type_counts = SM.groupby(['platform', 'post_type']).size()\n",
    "post_type_counts"
   ]
  },
  {
   "cell_type": "markdown",
   "id": "e6d7c0a9",
   "metadata": {},
   "source": [
    "## What was the total number of each type of post (video, image, text) on each platform?\n",
    "### Facebook             \n",
    "                     image        216\n",
    "                     text         201\n",
    "                     video        202\n",
    "### Instagram          \n",
    "                     image        263\n",
    "                     text         198\n",
    "                     video        203\n",
    "### NonExistingPlatform  \n",
    "                     image          1\n",
    "                     text           3\n",
    "                     video          2\n",
    "### Twitter              \n",
    "                     image        248\n",
    "                     text         214\n",
    "                     video        216"
   ]
  },
  {
   "cell_type": "code",
   "execution_count": 42,
   "id": "7c7675c3",
   "metadata": {},
   "outputs": [],
   "source": [
    "# Calculate the average engagement for each post type\n",
    "average_engagement_by_post_type = SM.groupby('post_type')['engagement'].mean()"
   ]
  },
  {
   "cell_type": "code",
   "execution_count": 43,
   "id": "628bd12b",
   "metadata": {},
   "outputs": [],
   "source": [
    "# Find the post type with the highest average engagement\n",
    "highest_engagement_post_type = average_engagement_by_post_type.idxmax()\n",
    "highest_average_engagement = average_engagement_by_post_type.max()"
   ]
  },
  {
   "cell_type": "code",
   "execution_count": 44,
   "id": "bb3ab616",
   "metadata": {},
   "outputs": [
    {
     "name": "stdout",
     "output_type": "stream",
     "text": [
      "Post type with the highest average engagement: text\n",
      "Highest average engagement: 2129.711038961039\n"
     ]
    }
   ],
   "source": [
    "print(\"Post type with the highest average engagement:\", highest_engagement_post_type)\n",
    "print(\"Highest average engagement:\", highest_average_engagement)"
   ]
  },
  {
   "cell_type": "code",
   "execution_count": 45,
   "id": "a925ba09",
   "metadata": {},
   "outputs": [
    {
     "data": {
      "image/png": "[encoded data removed]",
      "text/plain": [
       "<Figure size 800x600 with 1 Axes>"
      ]
     },
     "metadata": {},
     "output_type": "display_data"
    }
   ],
   "source": [
    "# Plot the bar chart\n",
    "plt.figure(figsize=(8, 6))\n",
    "average_engagement_by_post_type.plot(kind='bar', color='skyblue')\n",
    "plt.title('Average Engagement by Post Type')\n",
    "plt.xlabel('Post Type')\n",
    "plt.ylabel('Average Engagement')\n",
    "plt.xticks(rotation=0)\n",
    "plt.grid(axis='y')\n",
    "plt.tight_layout()\n",
    "plt.show()"
   ]
  },
  {
   "cell_type": "code",
   "execution_count": 46,
   "id": "b98a43aa",
   "metadata": {},
   "outputs": [
    {
     "name": "stderr",
     "output_type": "stream",
     "text": [
      "C:\\Users\\Golam Kausar\\AppData\\Local\\Temp\\ipykernel_1984\\2787123395.py:2: FutureWarning: Indexing with multiple keys (implicitly converted to a tuple of keys) will be deprecated, use a list instead.\n",
      "  quarterly_engagement = SM.groupby(SM['date'].dt.quarter)['likes', 'shares', 'comments'].sum()\n"
     ]
    },
    {
     "data": {
      "text/html": [
       "<div>\n",
       "<style scoped>\n",
       "    .dataframe tbody tr th:only-of-type {\n",
       "        vertical-align: middle;\n",
       "    }\n",
       "\n",
       "    .dataframe tbody tr th {\n",
       "        vertical-align: top;\n",
       "    }\n",
       "\n",
       "    .dataframe thead th {\n",
       "        text-align: right;\n",
       "    }\n",
       "</style>\n",
       "<table border=\"1\" class=\"dataframe\">\n",
       "  <thead>\n",
       "    <tr style=\"text-align: right;\">\n",
       "      <th></th>\n",
       "      <th>likes</th>\n",
       "      <th>shares</th>\n",
       "      <th>comments</th>\n",
       "    </tr>\n",
       "    <tr>\n",
       "      <th>date</th>\n",
       "      <th></th>\n",
       "      <th></th>\n",
       "      <th></th>\n",
       "    </tr>\n",
       "  </thead>\n",
       "  <tbody>\n",
       "    <tr>\n",
       "      <th>1</th>\n",
       "      <td>623306.0</td>\n",
       "      <td>244470.0</td>\n",
       "      <td>154764.0</td>\n",
       "    </tr>\n",
       "    <tr>\n",
       "      <th>2</th>\n",
       "      <td>624352.0</td>\n",
       "      <td>227480.0</td>\n",
       "      <td>142500.0</td>\n",
       "    </tr>\n",
       "    <tr>\n",
       "      <th>3</th>\n",
       "      <td>602749.0</td>\n",
       "      <td>230716.0</td>\n",
       "      <td>139252.0</td>\n",
       "    </tr>\n",
       "    <tr>\n",
       "      <th>4</th>\n",
       "      <td>687751.0</td>\n",
       "      <td>276508.0</td>\n",
       "      <td>163844.0</td>\n",
       "    </tr>\n",
       "  </tbody>\n",
       "</table>\n",
       "</div>"
      ],
      "text/plain": [
       "         likes    shares  comments\n",
       "date                              \n",
       "1     623306.0  244470.0  154764.0\n",
       "2     624352.0  227480.0  142500.0\n",
       "3     602749.0  230716.0  139252.0\n",
       "4     687751.0  276508.0  163844.0"
      ]
     },
     "execution_count": 46,
     "metadata": {},
     "output_type": "execute_result"
    }
   ],
   "source": [
    "# Group by quarter and calculate total engagement\n",
    "quarterly_engagement = SM.groupby(SM['date'].dt.quarter)['likes', 'shares', 'comments'].sum()\n",
    "\n",
    "quarterly_engagement"
   ]
  },
  {
   "cell_type": "code",
   "execution_count": 47,
   "id": "1434534c",
   "metadata": {},
   "outputs": [
    {
     "data": {
      "text/plain": [
       "<Figure size 1000x600 with 0 Axes>"
      ]
     },
     "metadata": {},
     "output_type": "display_data"
    },
    {
     "data": {
      "image/png": "[encoded data removed]",
      "text/plain": [
       "<Figure size 640x480 with 1 Axes>"
      ]
     },
     "metadata": {},
     "output_type": "display_data"
    }
   ],
   "source": [
    "# Plot the bar chart\n",
    "plt.figure(figsize=(10, 6))\n",
    "quarterly_engagement.plot(kind='bar', stacked=True)\n",
    "plt.title('Total Engagement by Quarter')\n",
    "plt.xlabel('Quarter')\n",
    "plt.ylabel('Total Engagement')\n",
    "plt.xticks(rotation=0)\n",
    "plt.legend(title='Metrics')\n",
    "plt.grid(axis='y')\n",
    "plt.tight_layout()\n",
    "plt.show()"
   ]
  },
  {
   "cell_type": "code",
   "execution_count": null,
   "id": "07985b94",
   "metadata": {},
   "outputs": [],
   "source": []
  }
 ],
 "metadata": {
  "kernelspec": {
   "display_name": "Python 3 (ipykernel)",
   "language": "python",
   "name": "python3"
  },
  "language_info": {
   "codemirror_mode": {
    "name": "ipython",
    "version": 3
   },
   "file_extension": ".py",
   "mimetype": "text/x-python",
   "name": "python",
   "nbconvert_exporter": "python",
   "pygments_lexer": "ipython3",
   "version": "3.10.9"
  }
 },
 "nbformat": 4,
 "nbformat_minor": 5
}
